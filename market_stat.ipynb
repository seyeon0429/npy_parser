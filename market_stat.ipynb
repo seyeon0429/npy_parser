{
 "cells": [
  {
   "cell_type": "code",
   "execution_count": null,
   "metadata": {},
   "outputs": [],
   "source": []
  },
  {
   "cell_type": "code",
   "execution_count": 3,
   "metadata": {},
   "outputs": [],
   "source": [
    "\n",
    "from src.constants import REGMKT_END_TIME_NS, REGMKT_START_TIME_NS, INTERVAL_SEC\n",
    "from src.constants import T_N, R_N, A_N, TICKER_SYM, DATE_FROM_PATH, START_TIME_NS, END_TIME_NS, INTERVAL_NS\n",
    "\n",
    "from collections import namedtuple\n",
    "from logging import raiseExceptions\n",
    "import os\n",
    "import pandas as pd\n",
    "import numpy as np\n",
    "\n",
    "from pathlib import Path\n",
    "from src.lib import Exchange\n",
    "import zstandard\n",
    "from pathlib import Path\n",
    "import json\n",
    "\n",
    "import time\n",
    "from datetime import datetime, timedelta\n",
    "import copy\n",
    "# from utils import normalize_max"
   ]
  },
  {
   "cell_type": "code",
   "execution_count": 5,
   "metadata": {},
   "outputs": [],
   "source": [
    "def load_json_zst(path: Path):\n",
    "    return json.loads(zstandard.decompress(Path(path).expanduser().read_bytes()))\n",
    "sym = \"SPY\"\n",
    "date = \"S061623-v50\"\n",
    "data_dir = '/media/seyeon04299/HardDisk/jupyter_server/parsed_itch_data/'\n",
    "\n",
    "market_stat = load_json_zst(data_dir + f\"{date}/{sym}.json.zst\")\n"
   ]
  },
  {
   "cell_type": "code",
   "execution_count": 8,
   "metadata": {},
   "outputs": [
    {
     "data": {
      "text/plain": [
       "dict_keys(['total_volume', 'pre_market_volume', 'regular_market_volume', 'post_market_volume', 'regular_market_start', 'post_market_start', 'stock_directory', 'opening_cross_price', 'opening_cross_volume', 'closing_cross_price', 'closing_cross_volume', 'interval_bid_execute_volume', 'interval_ask_execute_volume', 'interval_bid_execute_volume_ts', 'interval_ask_execute_volume_ts', 'interval_bid_cancel_volume', 'interval_ask_cancel_volume', 'interval_bid_add_volume', 'interval_ask_add_volume', 'interval_price_volume', 'interval_high', 'interval_high_ts', 'interval_low', 'interval_low_ts', 'interval_midprice', 'interval_midprice_ts', 'interval_open', 'interval_open_ts', 'interval_close', 'interval_close_ts', 'interval_bid_execute_msg_count', 'interval_ask_execute_msg_count', 'interval_bid_cancel_msg_count', 'interval_ask_cancel_msg_count', 'interval_bid_add_msg_count', 'interval_ask_add_msg_count', 'lob_ts', 'lob_bid_price', 'lob_bid_shares', 'lob_ask_price', 'lob_ask_shares', 'add_bid_price', 'add_bid_shares', 'add_bid_msg_count', 'add_ask_price', 'add_ask_shares', 'add_ask_msg_count', 'cancel_bid_price', 'cancel_bid_shares', 'cancel_bid_msg_count', 'cancel_ask_price', 'cancel_ask_shares', 'cancel_ask_msg_count'])"
      ]
     },
     "execution_count": 8,
     "metadata": {},
     "output_type": "execute_result"
    }
   ],
   "source": [
    "market_stat.keys()"
   ]
  },
  {
   "cell_type": "code",
   "execution_count": 16,
   "metadata": {},
   "outputs": [],
   "source": [
    "interval_open = np.array(market_stat[\"interval_open\"], dtype=np.double)                                 # (57660, )\n",
    "interval_high = np.array(market_stat[\"interval_high\"], dtype=np.double)                                 # (57660, )\n",
    "interval_low = np.array(market_stat[\"interval_low\"], dtype=np.double)                                   # (57660, )\n",
    "interval_close = np.array(market_stat[\"interval_close\"], dtype=np.double)    \n",
    "regmkt_interval_open = interval_open[R_N:A_N] / 1e4\n",
    "regmkt_interval_high = interval_high[R_N:A_N] / 1e4\n",
    "regmkt_interval_low = interval_low[R_N:A_N] / 1e4\n",
    "regmkt_interval_close = interval_close[R_N:A_N] / 1e4"
   ]
  },
  {
   "cell_type": "code",
   "execution_count": null,
   "metadata": {},
   "outputs": [],
   "source": [
    "for open,high,low,close in zip(regmkt_interval_open,regmkt_interval_high,regmkt_interval_low,regmkt_interval_close):\n",
    "    "
   ]
  },
  {
   "cell_type": "code",
   "execution_count": 17,
   "metadata": {},
   "outputs": [
    {
     "data": {
      "text/plain": [
       "array([443.06, 443.07, 443.15, ..., 439.21, 439.34, 439.25])"
      ]
     },
     "execution_count": 17,
     "metadata": {},
     "output_type": "execute_result"
    }
   ],
   "source": [
    "regmkt_interval_open"
   ]
  },
  {
   "cell_type": "code",
   "execution_count": 18,
   "metadata": {},
   "outputs": [
    {
     "data": {
      "text/plain": [
       "array([443.12, 443.1 , 443.17, ..., 439.33, 439.34, 439.48])"
      ]
     },
     "execution_count": 18,
     "metadata": {},
     "output_type": "execute_result"
    }
   ],
   "source": [
    "regmkt_interval_high"
   ]
  },
  {
   "cell_type": "code",
   "execution_count": 19,
   "metadata": {},
   "outputs": [
    {
     "data": {
      "text/plain": [
       "array([443.04, 442.99, 443.11, ..., 439.21, 439.23, 439.25])"
      ]
     },
     "execution_count": 19,
     "metadata": {},
     "output_type": "execute_result"
    }
   ],
   "source": [
    "regmkt_interval_low"
   ]
  },
  {
   "cell_type": "code",
   "execution_count": 20,
   "metadata": {},
   "outputs": [
    {
     "data": {
      "text/plain": [
       "array([443.04, 443.1 , 443.11, ..., 439.33, 439.23, 439.43])"
      ]
     },
     "execution_count": 20,
     "metadata": {},
     "output_type": "execute_result"
    }
   ],
   "source": [
    "regmkt_interval_close"
   ]
  },
  {
   "cell_type": "code",
   "execution_count": 21,
   "metadata": {},
   "outputs": [],
   "source": [
    "ibkr_data_dir = \"/media/seyeon04299/HardDisk/jupyter_server/npy_ibkr_parsed_data/\"\n",
    "\n",
    "tmp_data = np.load(os.path.join(ibkr_data_dir,f\"S{'061623'}-v50\", \"input_SPY_OHLCVT_ATR.npy\"))\n"
   ]
  },
  {
   "cell_type": "code",
   "execution_count": 22,
   "metadata": {},
   "outputs": [
    {
     "data": {
      "text/plain": [
       "array([443.01, 443.06, 443.11, ..., 439.21, 439.33, 439.25])"
      ]
     },
     "execution_count": 22,
     "metadata": {},
     "output_type": "execute_result"
    }
   ],
   "source": [
    "tmp_data[:,0]"
   ]
  },
  {
   "cell_type": "code",
   "execution_count": 23,
   "metadata": {},
   "outputs": [
    {
     "data": {
      "text/plain": [
       "array([443.13, 443.15, 443.18, ..., 439.33, 439.34, 439.49])"
      ]
     },
     "execution_count": 23,
     "metadata": {},
     "output_type": "execute_result"
    }
   ],
   "source": [
    "tmp_data[:,1]"
   ]
  },
  {
   "cell_type": "code",
   "execution_count": 24,
   "metadata": {},
   "outputs": [
    {
     "data": {
      "text/plain": [
       "array([442.95, 442.99, 443.04, ..., 439.21, 439.23, 439.25])"
      ]
     },
     "execution_count": 24,
     "metadata": {},
     "output_type": "execute_result"
    }
   ],
   "source": [
    "tmp_data[:,2]"
   ]
  },
  {
   "cell_type": "code",
   "execution_count": null,
   "metadata": {},
   "outputs": [],
   "source": []
  }
 ],
 "metadata": {
  "kernelspec": {
   "display_name": "Python 3.8.12 ('offlinerl')",
   "language": "python",
   "name": "python3"
  },
  "language_info": {
   "codemirror_mode": {
    "name": "ipython",
    "version": 3
   },
   "file_extension": ".py",
   "mimetype": "text/x-python",
   "name": "python",
   "nbconvert_exporter": "python",
   "pygments_lexer": "ipython3",
   "version": "3.8.12"
  },
  "orig_nbformat": 4,
  "vscode": {
   "interpreter": {
    "hash": "aba1a0de6dc8e172132e1cd6e330a6714c3065c02638a6d3896f87d2cc619eb0"
   }
  }
 },
 "nbformat": 4,
 "nbformat_minor": 2
}
